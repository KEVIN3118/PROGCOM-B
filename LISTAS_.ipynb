{
  "nbformat": 4,
  "nbformat_minor": 0,
  "metadata": {
    "colab": {
      "provenance": []
    },
    "kernelspec": {
      "name": "python3",
      "display_name": "Python 3"
    },
    "language_info": {
      "name": "python"
    }
  },
  "cells": [
    {
      "cell_type": "markdown",
      "source": [
        "1 EJERCICIO"
      ],
      "metadata": {
        "id": "yYSNPeWAhmQE"
      }
    },
    {
      "cell_type": "code",
      "execution_count": 6,
      "metadata": {
        "colab": {
          "base_uri": "https://localhost:8080/"
        },
        "id": "2cp8rmNMgYJG",
        "outputId": "02b83776-8d27-4c05-c18b-4a688e403915"
      },
      "outputs": [
        {
          "output_type": "stream",
          "name": "stdout",
          "text": [
            "Divisibles por 6: [6, 12, 18, 24, 30, 36, 42, 48, 54, 60]\n"
          ]
        }
      ],
      "source": [
        "divisibles_por_6 = [n for n in range(1, 61) if n % 6 == 0]\n",
        "print(\"Divisibles por 6:\", divisibles_por_6)\n",
        ""
      ]
    },
    {
      "cell_type": "markdown",
      "source": [
        "2 EJERCICIO"
      ],
      "metadata": {
        "id": "s6F0qt0fhs3j"
      }
    },
    {
      "cell_type": "code",
      "source": [
        "nombres = [\"Ana\", \"Carlos\", \"Andrés\", \"Beatriz\", \"Alberto\", \"Federico\", \"Alejandra\"]\n",
        "nombres_con_A = [nombre for nombre in nombres if nombre.startswith(\"A\")]\n",
        "print(\"Nombres que empiezan con 'A':\", nombres_con_A)"
      ],
      "metadata": {
        "id": "ucY-xODdhs_a"
      },
      "execution_count": null,
      "outputs": []
    },
    {
      "cell_type": "markdown",
      "source": [
        "3 EJERCICIO"
      ],
      "metadata": {
        "id": "DFkcv0tehtm8"
      }
    },
    {
      "cell_type": "code",
      "source": [
        "def es_primo(n):\n",
        "    if n < 2:\n",
        "        return False\n",
        "    return all(n % i != 0 for i in range(2, int(n**0.5) + 1))\n",
        "\n",
        "primos = [n for n in range(0, 71) if es_primo(n)]\n",
        "print(\"Números primos:\", primos)"
      ],
      "metadata": {
        "colab": {
          "base_uri": "https://localhost:8080/"
        },
        "id": "-XbOI4q1htui",
        "outputId": "ce5ab10b-9719-4825-b5c4-9d4578d0fd29"
      },
      "execution_count": 7,
      "outputs": [
        {
          "output_type": "stream",
          "name": "stdout",
          "text": [
            "Números primos: [2, 3, 5, 7, 11, 13, 17, 19, 23, 29, 31, 37, 41, 43, 47, 53, 59, 61, 67]\n"
          ]
        }
      ]
    },
    {
      "cell_type": "markdown",
      "source": [
        "4 EJERCICIO"
      ],
      "metadata": {
        "id": "LWzkG8Ppht3S"
      }
    },
    {
      "cell_type": "code",
      "source": [],
      "metadata": {
        "id": "dYtd12q9ht_U"
      },
      "execution_count": null,
      "outputs": []
    },
    {
      "cell_type": "markdown",
      "source": [
        "5 EJERCICIO"
      ],
      "metadata": {
        "id": "GjY_d8IyhuGT"
      }
    },
    {
      "cell_type": "code",
      "source": [],
      "metadata": {
        "id": "pFQSvr40huNi"
      },
      "execution_count": null,
      "outputs": []
    }
  ]
}