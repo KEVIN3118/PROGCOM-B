{
  "nbformat": 4,
  "nbformat_minor": 0,
  "metadata": {
    "colab": {
      "provenance": []
    },
    "kernelspec": {
      "name": "python3",
      "display_name": "Python 3"
    },
    "language_info": {
      "name": "python"
    }
  },
  "cells": [
    {
      "cell_type": "markdown",
      "source": [
        "# 1. False: Valor booleano falso."
      ],
      "metadata": {
        "id": "NjpRsDSQbLGA"
      }
    },
    {
      "cell_type": "code",
      "source": [
        "x = False\n",
        "if not x:\n",
        "    print(\"Es falso\")"
      ],
      "metadata": {
        "colab": {
          "base_uri": "https://localhost:8080/"
        },
        "id": "aESoJDTybOKF",
        "outputId": "6de89ab2-e53a-4903-c9f5-88e9dccca756"
      },
      "execution_count": 13,
      "outputs": [
        {
          "output_type": "stream",
          "name": "stdout",
          "text": [
            "Es falso\n"
          ]
        }
      ]
    },
    {
      "cell_type": "markdown",
      "source": [
        "2. None: Representa la ausencia de valor."
      ],
      "metadata": {
        "id": "2WckQQU9bQp_"
      }
    },
    {
      "cell_type": "code",
      "source": [
        "resultado = None\n",
        "if resultado is None:\n",
        "    print(\"Sin resultado\")\n"
      ],
      "metadata": {
        "colab": {
          "base_uri": "https://localhost:8080/"
        },
        "id": "PcL6482bbS_I",
        "outputId": "ca930688-baca-42c2-f738-6ae75f12f227"
      },
      "execution_count": 12,
      "outputs": [
        {
          "output_type": "stream",
          "name": "stdout",
          "text": [
            "Sin resultado\n"
          ]
        }
      ]
    },
    {
      "cell_type": "markdown",
      "source": [
        "3. True: Valor booleano verdadero."
      ],
      "metadata": {
        "id": "Ya8-TWMlbhtm"
      }
    },
    {
      "cell_type": "code",
      "source": [
        "x = True\n",
        "if x:\n",
        "    print(\"Es verdadero\")"
      ],
      "metadata": {
        "colab": {
          "base_uri": "https://localhost:8080/"
        },
        "id": "T6u47KEmbmX5",
        "outputId": "c4ef56f5-0950-492d-9dad-6a1efd1fd84b"
      },
      "execution_count": 11,
      "outputs": [
        {
          "output_type": "stream",
          "name": "stdout",
          "text": [
            "Es verdadero\n"
          ]
        }
      ]
    },
    {
      "cell_type": "markdown",
      "source": [
        "4. and: Operador lógico \"y\"."
      ],
      "metadata": {
        "id": "OMv5FJOubvwU"
      }
    },
    {
      "cell_type": "code",
      "source": [
        "if True and False:\n",
        "    print(\"Esto no se imprime\")"
      ],
      "metadata": {
        "id": "Nb4SKJeDbyRA"
      },
      "execution_count": 1,
      "outputs": []
    },
    {
      "cell_type": "markdown",
      "source": [
        "5. as: Da un alias a un módulo."
      ],
      "metadata": {
        "id": "c-DW8jGVcBLT"
      }
    },
    {
      "cell_type": "code",
      "source": [
        "import math as m\n",
        "print(m.sqrt(16))"
      ],
      "metadata": {
        "colab": {
          "base_uri": "https://localhost:8080/"
        },
        "id": "g7cySUabcB09",
        "outputId": "43687bc3-1ab7-4377-a98f-c9dae77b4bce"
      },
      "execution_count": 10,
      "outputs": [
        {
          "output_type": "stream",
          "name": "stdout",
          "text": [
            "4.0\n"
          ]
        }
      ]
    },
    {
      "cell_type": "markdown",
      "source": [
        "6. assert: Verifica una condición."
      ],
      "metadata": {
        "id": "I-_p-wNccFYO"
      }
    },
    {
      "cell_type": "code",
      "source": [
        "assert 2 + 2 == 4"
      ],
      "metadata": {
        "id": "4ouEMfHDcGH-"
      },
      "execution_count": 3,
      "outputs": []
    },
    {
      "cell_type": "markdown",
      "source": [
        "7. break: Rompe un ciclo."
      ],
      "metadata": {
        "id": "mkzWmZFccIWn"
      }
    },
    {
      "cell_type": "code",
      "source": [
        "for i in range(5):\n",
        "    if i == 3:\n",
        "        break\n",
        "    print(i)"
      ],
      "metadata": {
        "colab": {
          "base_uri": "https://localhost:8080/"
        },
        "id": "aaztFA--cLBn",
        "outputId": "3a0bd24e-0856-4dd6-b1da-353068ea5f17"
      },
      "execution_count": 9,
      "outputs": [
        {
          "output_type": "stream",
          "name": "stdout",
          "text": [
            "0\n",
            "1\n",
            "2\n"
          ]
        }
      ]
    },
    {
      "cell_type": "markdown",
      "source": [
        "8. class: Define una clase."
      ],
      "metadata": {
        "id": "FD0ikglEcVCM"
      }
    },
    {
      "cell_type": "code",
      "source": [
        "class Perro:\n",
        "    def ladrar(self):\n",
        "        print(\"Guau!\")\n"
      ],
      "metadata": {
        "id": "FzANvogVcYKm"
      },
      "execution_count": 8,
      "outputs": []
    },
    {
      "cell_type": "markdown",
      "source": [
        "9. continue: Salta a la siguiente iteración."
      ],
      "metadata": {
        "id": "UBnQaGHEccWx"
      }
    },
    {
      "cell_type": "code",
      "source": [
        "for i in range(5):\n",
        "    if i == 2:\n",
        "        continue\n",
        "    print(i)"
      ],
      "metadata": {
        "colab": {
          "base_uri": "https://localhost:8080/"
        },
        "id": "_43uBTXjcd43",
        "outputId": "448e5a1e-775b-4e58-9ee1-dd631c0bda57"
      },
      "execution_count": 7,
      "outputs": [
        {
          "output_type": "stream",
          "name": "stdout",
          "text": [
            "0\n",
            "1\n",
            "3\n",
            "4\n"
          ]
        }
      ]
    },
    {
      "cell_type": "markdown",
      "source": [
        "10. def: Define una función."
      ],
      "metadata": {
        "id": "2Wy041jicnkT"
      }
    },
    {
      "cell_type": "code",
      "source": [
        "def saludar():\n",
        "    print(\"Hola!\")"
      ],
      "metadata": {
        "id": "f6Kx8QDYcpWs"
      },
      "execution_count": 14,
      "outputs": []
    },
    {
      "cell_type": "markdown",
      "source": [
        "11. del: Elimina una variable o elemento."
      ],
      "metadata": {
        "id": "Wx4o5HsRc4Ee"
      }
    },
    {
      "cell_type": "code",
      "source": [
        "lista = [1, 2, 3]\n",
        "del lista[0]\n",
        "print(lista)"
      ],
      "metadata": {
        "colab": {
          "base_uri": "https://localhost:8080/"
        },
        "id": "S2mD1zNxc6Gn",
        "outputId": "8c7f8f70-ed27-402d-fd1e-e71f5f5c7ef4"
      },
      "execution_count": 25,
      "outputs": [
        {
          "output_type": "stream",
          "name": "stdout",
          "text": [
            "[2, 3]\n"
          ]
        }
      ]
    },
    {
      "cell_type": "markdown",
      "source": [
        "12. elif: Condición adicional en if."
      ],
      "metadata": {
        "id": "mXB_FIBIc7J2"
      }
    },
    {
      "cell_type": "code",
      "source": [
        "x = 5\n",
        "if x == 1:\n",
        "    print(\"Uno\")\n",
        "elif x == 5:\n",
        "    print(\"Cinco\")"
      ],
      "metadata": {
        "colab": {
          "base_uri": "https://localhost:8080/"
        },
        "id": "0NQrc05pc_WO",
        "outputId": "bfcb428f-7b2a-4951-dcaf-66f5c7933222"
      },
      "execution_count": 24,
      "outputs": [
        {
          "output_type": "stream",
          "name": "stdout",
          "text": [
            "Cinco\n"
          ]
        }
      ]
    },
    {
      "cell_type": "markdown",
      "source": [
        "13. else: Alternativa si no se cumple la condición."
      ],
      "metadata": {
        "id": "6QntetIwdEOI"
      }
    },
    {
      "cell_type": "code",
      "source": [
        "x = 0\n",
        "if x == 1:\n",
        "    print(\"Uno\")\n",
        "else:\n",
        "    print(\"Otro número\")"
      ],
      "metadata": {
        "colab": {
          "base_uri": "https://localhost:8080/"
        },
        "id": "fvqgdQArdIvD",
        "outputId": "691ab141-eeec-43d7-8710-45782d8a2210"
      },
      "execution_count": 23,
      "outputs": [
        {
          "output_type": "stream",
          "name": "stdout",
          "text": [
            "Otro número\n"
          ]
        }
      ]
    },
    {
      "cell_type": "markdown",
      "source": [
        "14. except: Captura excepciones."
      ],
      "metadata": {
        "id": "sOy0t6E2dKvr"
      }
    },
    {
      "cell_type": "code",
      "source": [
        "try:\n",
        "    x = 1 / 0\n",
        "except ZeroDivisionError:\n",
        "    print(\"Error: División por cero\")\n"
      ],
      "metadata": {
        "colab": {
          "base_uri": "https://localhost:8080/"
        },
        "id": "U32lcxCedNRF",
        "outputId": "edcbac0f-4e24-4d56-a171-bec2b270c7dd"
      },
      "execution_count": 22,
      "outputs": [
        {
          "output_type": "stream",
          "name": "stdout",
          "text": [
            "Error: División por cero\n"
          ]
        }
      ]
    },
    {
      "cell_type": "markdown",
      "source": [
        "15. finally: Se ejecuta siempre, ocurra o no un error."
      ],
      "metadata": {
        "id": "XwFYsSogda-x"
      }
    },
    {
      "cell_type": "code",
      "source": [
        "try:\n",
        "    x = 1 / 0\n",
        "except:\n",
        "    print(\"Error\")\n",
        "finally:\n",
        "    print(\"Esto siempre se ejecuta\")\n"
      ],
      "metadata": {
        "colab": {
          "base_uri": "https://localhost:8080/"
        },
        "id": "mmzOUW6Wdd-i",
        "outputId": "9cbd4df7-bd24-4f3a-ed17-11ba8f3a41fc"
      },
      "execution_count": 21,
      "outputs": [
        {
          "output_type": "stream",
          "name": "stdout",
          "text": [
            "Error\n",
            "Esto siempre se ejecuta\n"
          ]
        }
      ]
    },
    {
      "cell_type": "markdown",
      "source": [
        "16. for: Ciclo que recorre una secuencia."
      ],
      "metadata": {
        "id": "sk3raHJpdi_-"
      }
    },
    {
      "cell_type": "code",
      "source": [
        "for i in range(3):\n",
        "    print(i)\n"
      ],
      "metadata": {
        "colab": {
          "base_uri": "https://localhost:8080/"
        },
        "id": "GEjTiml8djyl",
        "outputId": "c80d4afd-045b-4e19-c70c-e9fb429bb8d3"
      },
      "execution_count": 20,
      "outputs": [
        {
          "output_type": "stream",
          "name": "stdout",
          "text": [
            "0\n",
            "1\n",
            "2\n"
          ]
        }
      ]
    },
    {
      "cell_type": "markdown",
      "source": [
        "17. from: Importa algo específico de un módulo."
      ],
      "metadata": {
        "id": "cMaJpujcdnwh"
      }
    },
    {
      "cell_type": "code",
      "source": [
        "from math import pi\n",
        "print(pi)"
      ],
      "metadata": {
        "colab": {
          "base_uri": "https://localhost:8080/"
        },
        "id": "VqIHbX18dqUh",
        "outputId": "55d4a9ec-80ec-4587-a288-23cb9e318743"
      },
      "execution_count": 19,
      "outputs": [
        {
          "output_type": "stream",
          "name": "stdout",
          "text": [
            "3.141592653589793\n"
          ]
        }
      ]
    },
    {
      "cell_type": "markdown",
      "source": [
        "18. global: Declara una variable global."
      ],
      "metadata": {
        "id": "YGkPvtlReJxV"
      }
    },
    {
      "cell_type": "code",
      "source": [
        "x = 5\n",
        "def cambiar():\n",
        "    global x\n",
        "    x = 10\n",
        "cambiar\n",
        "print()"
      ],
      "metadata": {
        "colab": {
          "base_uri": "https://localhost:8080/"
        },
        "id": "K91TeBeOeM6m",
        "outputId": "e31a6021-4b22-4dbb-d2f6-116655c89004"
      },
      "execution_count": 18,
      "outputs": [
        {
          "output_type": "stream",
          "name": "stdout",
          "text": [
            "\n"
          ]
        }
      ]
    },
    {
      "cell_type": "markdown",
      "source": [
        "19. if: Condición."
      ],
      "metadata": {
        "id": "EbPqTlN4ek7M"
      }
    },
    {
      "cell_type": "code",
      "source": [
        "if 2 > 1:\n",
        "    print(\"Es cierto\")"
      ],
      "metadata": {
        "colab": {
          "base_uri": "https://localhost:8080/"
        },
        "id": "n5zHnfJZenmZ",
        "outputId": "c09e3845-e04d-4a11-a388-8e9f2fc204f5"
      },
      "execution_count": 16,
      "outputs": [
        {
          "output_type": "stream",
          "name": "stdout",
          "text": [
            "Es cierto\n"
          ]
        }
      ]
    },
    {
      "cell_type": "markdown",
      "source": [
        "20. import: Importa un módulo."
      ],
      "metadata": {
        "id": "-woD346Keq3z"
      }
    },
    {
      "cell_type": "code",
      "source": [
        "import math\n",
        "print(math.sqrt(16))"
      ],
      "metadata": {
        "colab": {
          "base_uri": "https://localhost:8080/"
        },
        "id": "oGfpR1eWe1Dv",
        "outputId": "a5414d8a-2cec-4304-fdec-43cbb3efb4c0"
      },
      "execution_count": 17,
      "outputs": [
        {
          "output_type": "stream",
          "name": "stdout",
          "text": [
            "4.0\n"
          ]
        }
      ]
    },
    {
      "cell_type": "markdown",
      "source": [
        "21. in: Verifica pertenencia en una secuencia."
      ],
      "metadata": {
        "id": "01NiD5KRe-ns"
      }
    },
    {
      "cell_type": "code",
      "source": [
        "lista = [1, 2, 3]\n",
        "if 2 in lista:\n",
        "    print(\"Está en la lista\")"
      ],
      "metadata": {
        "colab": {
          "base_uri": "https://localhost:8080/"
        },
        "id": "Pl4hXif8fAjG",
        "outputId": "0a581149-96f1-4977-be9a-89558792cbe2"
      },
      "execution_count": 26,
      "outputs": [
        {
          "output_type": "stream",
          "name": "stdout",
          "text": [
            "Está en la lista\n"
          ]
        }
      ]
    },
    {
      "cell_type": "markdown",
      "source": [
        "22. is: Verifica si dos objetos son el mismo."
      ],
      "metadata": {
        "id": "g6CUrgLdfDiO"
      }
    },
    {
      "cell_type": "code",
      "source": [
        "a = None\n",
        "if a is None:\n",
        "    print(\"Es None\")"
      ],
      "metadata": {
        "colab": {
          "base_uri": "https://localhost:8080/"
        },
        "id": "RS0UHddMfFpw",
        "outputId": "1e8f60f4-c6f8-491e-b51b-81b0d450e32d"
      },
      "execution_count": 38,
      "outputs": [
        {
          "output_type": "stream",
          "name": "stdout",
          "text": [
            "Es None\n"
          ]
        }
      ]
    },
    {
      "cell_type": "markdown",
      "source": [
        "23. lambda: Crea una función anónima."
      ],
      "metadata": {
        "id": "q3t3njxQfbd7"
      }
    },
    {
      "cell_type": "code",
      "source": [
        "cuadrado = lambda x: x * x\n",
        "print(cuadrado(4))"
      ],
      "metadata": {
        "colab": {
          "base_uri": "https://localhost:8080/"
        },
        "id": "u_-UXUSGfcUp",
        "outputId": "2d2d70f4-c78d-4faa-cd5a-217971b08939"
      },
      "execution_count": 37,
      "outputs": [
        {
          "output_type": "stream",
          "name": "stdout",
          "text": [
            "16\n"
          ]
        }
      ]
    },
    {
      "cell_type": "markdown",
      "source": [
        "24. nonlocal: Declara una variable de un ámbito externo."
      ],
      "metadata": {
        "id": "GN9Z6sDmfety"
      }
    },
    {
      "cell_type": "code",
      "source": [
        "def exterior():\n",
        "    x = \"fuera\"\n",
        "    def interior():\n",
        "        nonlocal x\n",
        "        x = \"dentro\"\n",
        "    interior()\n",
        "    print(x)\n",
        "exterior()"
      ],
      "metadata": {
        "colab": {
          "base_uri": "https://localhost:8080/"
        },
        "id": "QBATGV9Nfikj",
        "outputId": "abe67457-bfc3-4f68-c0fa-08a4323b0372"
      },
      "execution_count": 36,
      "outputs": [
        {
          "output_type": "stream",
          "name": "stdout",
          "text": [
            "dentro\n"
          ]
        }
      ]
    },
    {
      "cell_type": "markdown",
      "source": [
        "25. not: Operador lógico de negación."
      ],
      "metadata": {
        "id": "mZQH9dhMflOt"
      }
    },
    {
      "cell_type": "code",
      "source": [
        "if not False:\n",
        "    print(\"Verdadero\")\n"
      ],
      "metadata": {
        "colab": {
          "base_uri": "https://localhost:8080/"
        },
        "id": "pZEpIOKRfmxO",
        "outputId": "b2e478a2-f8fb-46ea-c098-1644c744bcd8"
      },
      "execution_count": 35,
      "outputs": [
        {
          "output_type": "stream",
          "name": "stdout",
          "text": [
            "Verdadero\n"
          ]
        }
      ]
    },
    {
      "cell_type": "markdown",
      "source": [
        "26. or: Operador lógico \"o\"."
      ],
      "metadata": {
        "id": "zZngbNcBgVjo"
      }
    },
    {
      "cell_type": "code",
      "source": [
        "if True or False:\n",
        "    print(\"Una de las condiciones es verdadera\")\n"
      ],
      "metadata": {
        "colab": {
          "base_uri": "https://localhost:8080/"
        },
        "id": "a4VuM42rgWcz",
        "outputId": "bc49eec7-cae8-45c9-8947-8fe8e1201b8b"
      },
      "execution_count": 34,
      "outputs": [
        {
          "output_type": "stream",
          "name": "stdout",
          "text": [
            "Una de las condiciones es verdadera\n"
          ]
        }
      ]
    },
    {
      "cell_type": "markdown",
      "source": [
        "27. pass: No hace nada (placeholder)."
      ],
      "metadata": {
        "id": "ZJ0G2hI2gZvp"
      }
    },
    {
      "cell_type": "code",
      "source": [
        "def funcion():\n",
        "    pass"
      ],
      "metadata": {
        "id": "EgeJGEbRgakL"
      },
      "execution_count": 33,
      "outputs": []
    },
    {
      "cell_type": "markdown",
      "source": [
        "28. raise:"
      ],
      "metadata": {
        "id": "V8DEOA7qge9E"
      }
    },
    {
      "cell_type": "code",
      "source": [
        "def dividir(a, b):\n",
        "    if b == 0:\n",
        "        raise ValueError(\"No se puede dividir por cero\")\n",
        "    return a / b"
      ],
      "metadata": {
        "id": "varkKYUygk84"
      },
      "execution_count": 27,
      "outputs": []
    },
    {
      "cell_type": "markdown",
      "source": [
        "29. return: Devuelve un valor desde una función."
      ],
      "metadata": {
        "id": "wB2kpjycglQ3"
      }
    },
    {
      "cell_type": "code",
      "source": [
        "def sumar(a, b):\n",
        "    return a + b\n",
        "print(sumar(2, 3))"
      ],
      "metadata": {
        "colab": {
          "base_uri": "https://localhost:8080/"
        },
        "id": "X7SEDRdRgotr",
        "outputId": "3b280dc3-fe5e-4019-ed5e-f2592bdc9d14"
      },
      "execution_count": 30,
      "outputs": [
        {
          "output_type": "stream",
          "name": "stdout",
          "text": [
            "5\n"
          ]
        }
      ]
    },
    {
      "cell_type": "markdown",
      "source": [
        "30. try: Intenta ejecutar código que puede fallar."
      ],
      "metadata": {
        "id": "n86ZULmIgr7b"
      }
    },
    {
      "cell_type": "code",
      "source": [
        "try:\n",
        "    x = 1 / 0\n",
        "except ZeroDivisionError:\n",
        "    print(\"División por cero\")"
      ],
      "metadata": {
        "colab": {
          "base_uri": "https://localhost:8080/"
        },
        "id": "8PBx2G3tgsrj",
        "outputId": "59f32ad5-d188-49b5-c3c1-ff2cbf6aa5fb"
      },
      "execution_count": 31,
      "outputs": [
        {
          "output_type": "stream",
          "name": "stdout",
          "text": [
            "División por cero\n"
          ]
        }
      ]
    },
    {
      "cell_type": "markdown",
      "source": [
        "31. while: Ciclo que se repite mientras la condición sea verdadera."
      ],
      "metadata": {
        "id": "ZtIbn2EugvoU"
      }
    },
    {
      "cell_type": "code",
      "source": [
        "x = 0\n",
        "while x < 3:\n",
        "    print(x)\n",
        "    x += 1"
      ],
      "metadata": {
        "colab": {
          "base_uri": "https://localhost:8080/"
        },
        "id": "NW2MTJNlgyP1",
        "outputId": "e6f99ce5-3c8d-451b-f7b5-73a46fd3619e"
      },
      "execution_count": 29,
      "outputs": [
        {
          "output_type": "stream",
          "name": "stdout",
          "text": [
            "0\n",
            "1\n",
            "2\n"
          ]
        }
      ]
    },
    {
      "cell_type": "markdown",
      "source": [
        "32. with: Maneja recursos, como abrir archivos."
      ],
      "metadata": {
        "id": "-k9uK3kYg3LA"
      }
    },
    {
      "cell_type": "code",
      "source": [
        "with open(\"archivo.txt\", \"w\") as archivo:\n",
        "    archivo.write(\"¡Hola desde Google Colab!\")"
      ],
      "metadata": {
        "id": "_dqFr00rg4cA"
      },
      "execution_count": 28,
      "outputs": []
    },
    {
      "cell_type": "markdown",
      "source": [
        "33. yield: Devuelve un valor en un generador."
      ],
      "metadata": {
        "id": "Qi452kNbg4sq"
      }
    },
    {
      "cell_type": "code",
      "source": [
        "def generador():\n",
        "    yield 1\n",
        "    yield 2\n",
        "    yield 3\n",
        "for valor in generador():\n",
        "    print(valor)"
      ],
      "metadata": {
        "colab": {
          "base_uri": "https://localhost:8080/"
        },
        "id": "_DZQO47gg6yh",
        "outputId": "04783d76-bf7a-493b-c07e-3c92bcdfa41a"
      },
      "execution_count": 32,
      "outputs": [
        {
          "output_type": "stream",
          "name": "stdout",
          "text": [
            "1\n",
            "2\n",
            "3\n"
          ]
        }
      ]
    }
  ]
}